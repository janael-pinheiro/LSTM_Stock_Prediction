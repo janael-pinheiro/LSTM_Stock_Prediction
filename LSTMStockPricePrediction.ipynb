{
  "nbformat": 4,
  "nbformat_minor": 0,
  "metadata": {
    "colab": {
      "name": "LSTMStockPricePrediction.ipynb",
      "provenance": [],
      "collapsed_sections": []
    },
    "kernelspec": {
      "name": "python3",
      "display_name": "Python 3"
    }
  },
  "cells": [
    {
      "cell_type": "markdown",
      "metadata": {
        "id": "CTXYA87uZzKh",
        "colab_type": "text"
      },
      "source": [
        "Install the investpy library. This library will be used to get stock hystorical data."
      ]
    },
    {
      "cell_type": "code",
      "metadata": {
        "id": "B5JzKEH1nuBu",
        "colab_type": "code",
        "colab": {
          "base_uri": "https://localhost:8080/",
          "height": 88
        },
        "outputId": "fc879029-c31c-4e67-bdd7-4c26db845192"
      },
      "source": [
        "!pip3 install -q investpy"
      ],
      "execution_count": null,
      "outputs": [
        {
          "output_type": "stream",
          "text": [
            "\u001b[K     |████████████████████████████████| 4.4MB 2.8MB/s \n",
            "\u001b[K     |████████████████████████████████| 245kB 46.7MB/s \n",
            "\u001b[K     |████████████████████████████████| 5.5MB 30.5MB/s \n",
            "\u001b[?25h  Building wheel for investpy (setup.py) ... \u001b[?25l\u001b[?25hdone\n"
          ],
          "name": "stdout"
        }
      ]
    },
    {
      "cell_type": "markdown",
      "metadata": {
        "id": "273DfqDRZvYs",
        "colab_type": "text"
      },
      "source": [
        "Import the necessary libraries."
      ]
    },
    {
      "cell_type": "code",
      "metadata": {
        "id": "v09sgBMY7Vd9",
        "colab_type": "code",
        "colab": {}
      },
      "source": [
        "from tensorflow.keras.models import Sequential\n",
        "from tensorflow.keras.layers import Dense\n",
        "from tensorflow.keras.layers import LSTM\n",
        "from tensorflow.keras.layers import Dropout"
      ],
      "execution_count": null,
      "outputs": []
    },
    {
      "cell_type": "code",
      "metadata": {
        "id": "R4uFDxhk9EFY",
        "colab_type": "code",
        "colab": {}
      },
      "source": [
        "import numpy as np"
      ],
      "execution_count": null,
      "outputs": []
    },
    {
      "cell_type": "code",
      "metadata": {
        "id": "88gH3MQk7ZCC",
        "colab_type": "code",
        "colab": {}
      },
      "source": [
        "from sklearn.preprocessing import MinMaxScaler"
      ],
      "execution_count": null,
      "outputs": []
    },
    {
      "cell_type": "code",
      "metadata": {
        "id": "9fsIqYmhn0er",
        "colab_type": "code",
        "colab": {}
      },
      "source": [
        "import investpy"
      ],
      "execution_count": null,
      "outputs": []
    },
    {
      "cell_type": "code",
      "metadata": {
        "id": "xdANG-qCpcbu",
        "colab_type": "code",
        "colab": {}
      },
      "source": [
        "import matplotlib.pyplot as plt\n",
        "%matplotlib inline"
      ],
      "execution_count": null,
      "outputs": []
    },
    {
      "cell_type": "code",
      "metadata": {
        "id": "wO-2OsW6lPJD",
        "colab_type": "code",
        "colab": {}
      },
      "source": [
        "from datetime import date"
      ],
      "execution_count": null,
      "outputs": []
    },
    {
      "cell_type": "markdown",
      "metadata": {
        "id": "-66PPSVFaaOZ",
        "colab_type": "text"
      },
      "source": [
        "Defines the country in which company shares are available."
      ]
    },
    {
      "cell_type": "code",
      "metadata": {
        "id": "IZ_bOyanoMS8",
        "colab_type": "code",
        "colab": {}
      },
      "source": [
        "country=\"united states\""
      ],
      "execution_count": null,
      "outputs": []
    },
    {
      "cell_type": "markdown",
      "metadata": {
        "id": "ydOdQp22azCS",
        "colab_type": "text"
      },
      "source": [
        "Determine the period for historical data."
      ]
    },
    {
      "cell_type": "code",
      "metadata": {
        "id": "55znCPjVpA55",
        "colab_type": "code",
        "colab": {}
      },
      "source": [
        "years = 5"
      ],
      "execution_count": null,
      "outputs": []
    },
    {
      "cell_type": "code",
      "metadata": {
        "id": "KamnJIqpoO_y",
        "colab_type": "code",
        "colab": {}
      },
      "source": [
        "initial_date = \"{0}/{1}/{2}\".format(date.today().day, date.today().month, date.today().year-years)"
      ],
      "execution_count": null,
      "outputs": []
    },
    {
      "cell_type": "code",
      "metadata": {
        "id": "X2T5J2FgoS9K",
        "colab_type": "code",
        "colab": {}
      },
      "source": [
        "final_date = date.today().strftime(\"%d/%m/%Y\")"
      ],
      "execution_count": null,
      "outputs": []
    },
    {
      "cell_type": "markdown",
      "metadata": {
        "id": "x7MKvFwEXpCf",
        "colab_type": "text"
      },
      "source": [
        "Ticket of some of the most popular US stocks:\n",
        "\n",
        "\n",
        "*   Google: GOOGL;\n",
        "*   Apple: AAPL;\n",
        "*   Amazon: AMZN;\n",
        "*   Facebook: FB;\n",
        "*   Tesla: TSLA;\n",
        "*   Berkshire Hathaway: BRKa.\n",
        "\n",
        "\n",
        "\n",
        "\n",
        "\n"
      ]
    },
    {
      "cell_type": "code",
      "metadata": {
        "id": "UvFVwM7eJ68T",
        "colab_type": "code",
        "colab": {}
      },
      "source": [
        "stock_name = \"TSLA\""
      ],
      "execution_count": null,
      "outputs": []
    },
    {
      "cell_type": "code",
      "metadata": {
        "id": "6qHvCuPVobsz",
        "colab_type": "code",
        "colab": {}
      },
      "source": [
        "stock_prices = investpy.get_stock_historical_data(stock_name, country=country, from_date=initial_date, to_date=final_date)"
      ],
      "execution_count": null,
      "outputs": []
    },
    {
      "cell_type": "code",
      "metadata": {
        "id": "mrEL2LSLo966",
        "colab_type": "code",
        "colab": {
          "base_uri": "https://localhost:8080/",
          "height": 455
        },
        "outputId": "2cb0c007-776a-49fe-90dc-5305e558f7c8"
      },
      "source": [
        "stock_prices"
      ],
      "execution_count": null,
      "outputs": [
        {
          "output_type": "execute_result",
          "data": {
            "text/html": [
              "<div>\n",
              "<style scoped>\n",
              "    .dataframe tbody tr th:only-of-type {\n",
              "        vertical-align: middle;\n",
              "    }\n",
              "\n",
              "    .dataframe tbody tr th {\n",
              "        vertical-align: top;\n",
              "    }\n",
              "\n",
              "    .dataframe thead th {\n",
              "        text-align: right;\n",
              "    }\n",
              "</style>\n",
              "<table border=\"1\" class=\"dataframe\">\n",
              "  <thead>\n",
              "    <tr style=\"text-align: right;\">\n",
              "      <th></th>\n",
              "      <th>Open</th>\n",
              "      <th>High</th>\n",
              "      <th>Low</th>\n",
              "      <th>Close</th>\n",
              "      <th>Volume</th>\n",
              "      <th>Currency</th>\n",
              "    </tr>\n",
              "    <tr>\n",
              "      <th>Date</th>\n",
              "      <th></th>\n",
              "      <th></th>\n",
              "      <th></th>\n",
              "      <th></th>\n",
              "      <th></th>\n",
              "      <th></th>\n",
              "    </tr>\n",
              "  </thead>\n",
              "  <tbody>\n",
              "    <tr>\n",
              "      <th>2015-07-30</th>\n",
              "      <td>262.69</td>\n",
              "      <td>266.94</td>\n",
              "      <td>262.11</td>\n",
              "      <td>266.79</td>\n",
              "      <td>2034560</td>\n",
              "      <td>USD</td>\n",
              "    </tr>\n",
              "    <tr>\n",
              "      <th>2015-07-31</th>\n",
              "      <td>267.60</td>\n",
              "      <td>269.36</td>\n",
              "      <td>265.12</td>\n",
              "      <td>266.15</td>\n",
              "      <td>2222552</td>\n",
              "      <td>USD</td>\n",
              "    </tr>\n",
              "    <tr>\n",
              "      <th>2015-08-03</th>\n",
              "      <td>266.29</td>\n",
              "      <td>266.71</td>\n",
              "      <td>257.07</td>\n",
              "      <td>259.99</td>\n",
              "      <td>2553474</td>\n",
              "      <td>USD</td>\n",
              "    </tr>\n",
              "    <tr>\n",
              "      <th>2015-08-04</th>\n",
              "      <td>260.01</td>\n",
              "      <td>266.72</td>\n",
              "      <td>258.34</td>\n",
              "      <td>266.28</td>\n",
              "      <td>2352530</td>\n",
              "      <td>USD</td>\n",
              "    </tr>\n",
              "    <tr>\n",
              "      <th>2015-08-05</th>\n",
              "      <td>263.58</td>\n",
              "      <td>271.00</td>\n",
              "      <td>260.40</td>\n",
              "      <td>270.13</td>\n",
              "      <td>6214319</td>\n",
              "      <td>USD</td>\n",
              "    </tr>\n",
              "    <tr>\n",
              "      <th>...</th>\n",
              "      <td>...</td>\n",
              "      <td>...</td>\n",
              "      <td>...</td>\n",
              "      <td>...</td>\n",
              "      <td>...</td>\n",
              "      <td>...</td>\n",
              "    </tr>\n",
              "    <tr>\n",
              "      <th>2020-07-24</th>\n",
              "      <td>1416.01</td>\n",
              "      <td>1465.00</td>\n",
              "      <td>1366.54</td>\n",
              "      <td>1417.00</td>\n",
              "      <td>19396616</td>\n",
              "      <td>USD</td>\n",
              "    </tr>\n",
              "    <tr>\n",
              "      <th>2020-07-27</th>\n",
              "      <td>1433.25</td>\n",
              "      <td>1547.13</td>\n",
              "      <td>1415.00</td>\n",
              "      <td>1539.60</td>\n",
              "      <td>16048669</td>\n",
              "      <td>USD</td>\n",
              "    </tr>\n",
              "    <tr>\n",
              "      <th>2020-07-28</th>\n",
              "      <td>1501.39</td>\n",
              "      <td>1564.70</td>\n",
              "      <td>1475.35</td>\n",
              "      <td>1476.49</td>\n",
              "      <td>15808700</td>\n",
              "      <td>USD</td>\n",
              "    </tr>\n",
              "    <tr>\n",
              "      <th>2020-07-29</th>\n",
              "      <td>1499.95</td>\n",
              "      <td>1533.85</td>\n",
              "      <td>1488.39</td>\n",
              "      <td>1499.11</td>\n",
              "      <td>9426893</td>\n",
              "      <td>USD</td>\n",
              "    </tr>\n",
              "    <tr>\n",
              "      <th>2020-07-30</th>\n",
              "      <td>1486.88</td>\n",
              "      <td>1512.61</td>\n",
              "      <td>1472.51</td>\n",
              "      <td>1487.49</td>\n",
              "      <td>7576462</td>\n",
              "      <td>USD</td>\n",
              "    </tr>\n",
              "  </tbody>\n",
              "</table>\n",
              "<p>1261 rows × 6 columns</p>\n",
              "</div>"
            ],
            "text/plain": [
              "               Open     High      Low    Close    Volume Currency\n",
              "Date                                                             \n",
              "2015-07-30   262.69   266.94   262.11   266.79   2034560      USD\n",
              "2015-07-31   267.60   269.36   265.12   266.15   2222552      USD\n",
              "2015-08-03   266.29   266.71   257.07   259.99   2553474      USD\n",
              "2015-08-04   260.01   266.72   258.34   266.28   2352530      USD\n",
              "2015-08-05   263.58   271.00   260.40   270.13   6214319      USD\n",
              "...             ...      ...      ...      ...       ...      ...\n",
              "2020-07-24  1416.01  1465.00  1366.54  1417.00  19396616      USD\n",
              "2020-07-27  1433.25  1547.13  1415.00  1539.60  16048669      USD\n",
              "2020-07-28  1501.39  1564.70  1475.35  1476.49  15808700      USD\n",
              "2020-07-29  1499.95  1533.85  1488.39  1499.11   9426893      USD\n",
              "2020-07-30  1486.88  1512.61  1472.51  1487.49   7576462      USD\n",
              "\n",
              "[1261 rows x 6 columns]"
            ]
          },
          "metadata": {
            "tags": []
          },
          "execution_count": 14
        }
      ]
    },
    {
      "cell_type": "code",
      "metadata": {
        "id": "TXqXBL0fpAH3",
        "colab_type": "code",
        "colab": {}
      },
      "source": [
        "historical_data = stock_prices[\"Close\"].values"
      ],
      "execution_count": null,
      "outputs": []
    },
    {
      "cell_type": "code",
      "metadata": {
        "id": "zzv4ah2hpGnM",
        "colab_type": "code",
        "colab": {
          "base_uri": "https://localhost:8080/",
          "height": 293
        },
        "outputId": "263e4736-5bd9-4fca-99b5-89189763b4d3"
      },
      "source": [
        "plt.plot(historical_data)\n",
        "plt.xlabel(\"Day\")\n",
        "plt.ylabel(\"Price (US$)\")\n",
        "plt.xlim(0,1261)\n",
        "plt.grid(True)\n",
        "plt.tight_layout()"
      ],
      "execution_count": null,
      "outputs": [
        {
          "output_type": "display_data",
          "data": {
            "image/png": "[encoded data removed]",
            "text/plain": [
              "<Figure size 432x288 with 1 Axes>"
            ]
          },
          "metadata": {
            "tags": [],
            "needs_background": "light"
          }
        }
      ]
    },
    {
      "cell_type": "code",
      "metadata": {
        "id": "8V-AC9pHpm-A",
        "colab_type": "code",
        "colab": {}
      },
      "source": [
        "scaler = MinMaxScaler(feature_range = (0, 1))"
      ],
      "execution_count": null,
      "outputs": []
    },
    {
      "cell_type": "code",
      "metadata": {
        "id": "kuh-H6H57gSB",
        "colab_type": "code",
        "colab": {}
      },
      "source": [
        "def createModel(X_train, nUnits, hiddenLayers):\n",
        "    model = Sequential()\n",
        "    model.add(LSTM(units = nUnits, return_sequences = True, input_shape = (X_train.shape[1], 1)))\n",
        "    model.add(Dropout(0.2))\n",
        "    for h in range(hiddenLayers):\n",
        "        model.add(LSTM(units = nUnits, return_sequences = True))\n",
        "        model.add(Dropout(0.2))\n",
        "    model.add(LSTM(units = nUnits))\n",
        "    model.add(Dropout(0.2))\n",
        "    model.add(Dense(units = 1))\n",
        "    model.compile(optimizer = 'adam', loss = 'mean_squared_error', metrics=[\"mse\"])\n",
        "    return model"
      ],
      "execution_count": null,
      "outputs": []
    },
    {
      "cell_type": "markdown",
      "metadata": {
        "id": "-v1S7gGIqTCN",
        "colab_type": "text"
      },
      "source": [
        "20 days."
      ]
    },
    {
      "cell_type": "code",
      "metadata": {
        "id": "tdzQUEB37nEo",
        "colab_type": "code",
        "colab": {}
      },
      "source": [
        "window = 20"
      ],
      "execution_count": null,
      "outputs": []
    },
    {
      "cell_type": "code",
      "metadata": {
        "id": "RGrFlP0C7sL_",
        "colab_type": "code",
        "colab": {}
      },
      "source": [
        "threshold = len(historical_data)-20"
      ],
      "execution_count": null,
      "outputs": []
    },
    {
      "cell_type": "code",
      "metadata": {
        "id": "C1u8v8zQ77e4",
        "colab_type": "code",
        "colab": {}
      },
      "source": [
        "train_data = historical_data[:threshold]"
      ],
      "execution_count": null,
      "outputs": []
    },
    {
      "cell_type": "code",
      "metadata": {
        "id": "slNfmsKM7-8d",
        "colab_type": "code",
        "colab": {}
      },
      "source": [
        "test_data = historical_data[threshold:]"
      ],
      "execution_count": null,
      "outputs": []
    },
    {
      "cell_type": "code",
      "metadata": {
        "id": "de-wsEb18EPj",
        "colab_type": "code",
        "colab": {}
      },
      "source": [
        "train_data = scaler.fit_transform(train_data.reshape(-1,1))"
      ],
      "execution_count": null,
      "outputs": []
    },
    {
      "cell_type": "code",
      "metadata": {
        "id": "1FEPbm018nFJ",
        "colab_type": "code",
        "colab": {
          "base_uri": "https://localhost:8080/",
          "height": 142
        },
        "outputId": "56513793-44ac-4f1a-b551-812f46ca9371"
      },
      "source": [
        "train_data"
      ],
      "execution_count": null,
      "outputs": [
        {
          "output_type": "execute_result",
          "data": {
            "text/plain": [
              "array([[0.12615271],\n",
              "       [0.12549695],\n",
              "       [0.11918521],\n",
              "       ...,\n",
              "       [0.88700357],\n",
              "       [0.95919915],\n",
              "       [1.        ]])"
            ]
          },
          "metadata": {
            "tags": []
          },
          "execution_count": 40
        }
      ]
    },
    {
      "cell_type": "code",
      "metadata": {
        "id": "eAac9I5_8xgq",
        "colab_type": "code",
        "colab": {}
      },
      "source": [
        "X_train = []\n",
        "y_train = []"
      ],
      "execution_count": null,
      "outputs": []
    },
    {
      "cell_type": "code",
      "metadata": {
        "id": "zE-sbdyw81AJ",
        "colab_type": "code",
        "colab": {}
      },
      "source": [
        "X_test = []\n",
        "y_test = []"
      ],
      "execution_count": null,
      "outputs": []
    },
    {
      "cell_type": "code",
      "metadata": {
        "id": "728vkiDS83Ax",
        "colab_type": "code",
        "colab": {}
      },
      "source": [
        "for i in range(window, threshold):\n",
        "    X_train.append(train_data[i-window:i, 0])\n",
        "    y_train.append(train_data[i, 0])"
      ],
      "execution_count": null,
      "outputs": []
    },
    {
      "cell_type": "code",
      "metadata": {
        "id": "vX8k62Hs88HN",
        "colab_type": "code",
        "colab": {
          "base_uri": "https://localhost:8080/",
          "height": 35
        },
        "outputId": "c298e431-8ba3-44e5-a397-81cb90f640a8"
      },
      "source": [
        "len(X_train)"
      ],
      "execution_count": null,
      "outputs": [
        {
          "output_type": "execute_result",
          "data": {
            "text/plain": [
              "1221"
            ]
          },
          "metadata": {
            "tags": []
          },
          "execution_count": 44
        }
      ]
    },
    {
      "cell_type": "code",
      "metadata": {
        "id": "oacG1ieDBnjy",
        "colab_type": "code",
        "colab": {
          "base_uri": "https://localhost:8080/",
          "height": 35
        },
        "outputId": "92f2cf56-ef0c-4cb8-df76-ccf4c7d7610d"
      },
      "source": [
        "test_data.shape"
      ],
      "execution_count": null,
      "outputs": [
        {
          "output_type": "execute_result",
          "data": {
            "text/plain": [
              "(20,)"
            ]
          },
          "metadata": {
            "tags": []
          },
          "execution_count": 45
        }
      ]
    },
    {
      "cell_type": "code",
      "metadata": {
        "id": "9h9jRvFu8-D7",
        "colab_type": "code",
        "colab": {}
      },
      "source": [
        "X_train, y_train = np.array(X_train), np.array(y_train)"
      ],
      "execution_count": null,
      "outputs": []
    },
    {
      "cell_type": "code",
      "metadata": {
        "id": "116NeEHw9AY5",
        "colab_type": "code",
        "colab": {}
      },
      "source": [
        "X_train = np.reshape(X_train, (X_train.shape[0], X_train.shape[1], 1))"
      ],
      "execution_count": null,
      "outputs": []
    },
    {
      "cell_type": "code",
      "metadata": {
        "id": "pJoOo_wYm6B9",
        "colab_type": "code",
        "colab": {}
      },
      "source": [
        "test_data = historical_data[threshold-window:].reshape(-1,1)"
      ],
      "execution_count": null,
      "outputs": []
    },
    {
      "cell_type": "code",
      "metadata": {
        "id": "p8jy9ZmzwGX-",
        "colab_type": "code",
        "colab": {
          "base_uri": "https://localhost:8080/",
          "height": 35
        },
        "outputId": "13b8d1bc-79be-4305-fa73-21f7af50b4a3"
      },
      "source": [
        "test_data.shape"
      ],
      "execution_count": null,
      "outputs": [
        {
          "output_type": "execute_result",
          "data": {
            "text/plain": [
              "(40, 1)"
            ]
          },
          "metadata": {
            "tags": []
          },
          "execution_count": 49
        }
      ]
    },
    {
      "cell_type": "code",
      "metadata": {
        "id": "TWCSjKtkmSVq",
        "colab_type": "code",
        "colab": {}
      },
      "source": [
        "test_data = scaler.fit_transform(test_data)"
      ],
      "execution_count": null,
      "outputs": []
    },
    {
      "cell_type": "code",
      "metadata": {
        "id": "hjtPmMZImz1B",
        "colab_type": "code",
        "colab": {
          "base_uri": "https://localhost:8080/",
          "height": 35
        },
        "outputId": "41796b4f-44a6-4e2a-8127-485c40a4ee45"
      },
      "source": [
        "test_data.shape"
      ],
      "execution_count": null,
      "outputs": [
        {
          "output_type": "execute_result",
          "data": {
            "text/plain": [
              "(40, 1)"
            ]
          },
          "metadata": {
            "tags": []
          },
          "execution_count": 51
        }
      ]
    },
    {
      "cell_type": "code",
      "metadata": {
        "id": "D9bQB4ErNQAd",
        "colab_type": "code",
        "colab": {
          "base_uri": "https://localhost:8080/",
          "height": 35
        },
        "outputId": "84b732a6-58b9-46dd-ccd7-b70ebb5e0e96"
      },
      "source": [
        "len(test_data)"
      ],
      "execution_count": null,
      "outputs": [
        {
          "output_type": "execute_result",
          "data": {
            "text/plain": [
              "40"
            ]
          },
          "metadata": {
            "tags": []
          },
          "execution_count": 52
        }
      ]
    },
    {
      "cell_type": "code",
      "metadata": {
        "id": "cCPsU3L29LNL",
        "colab_type": "code",
        "colab": {}
      },
      "source": [
        "for x in range(window, len(test_data)):\n",
        "    X_test.append(test_data[x-window:x,0])"
      ],
      "execution_count": null,
      "outputs": []
    },
    {
      "cell_type": "code",
      "metadata": {
        "id": "txR0Nhno9NH_",
        "colab_type": "code",
        "colab": {}
      },
      "source": [
        "X_test = np.array(X_test)"
      ],
      "execution_count": null,
      "outputs": []
    },
    {
      "cell_type": "code",
      "metadata": {
        "id": "POPb2MbjwnHu",
        "colab_type": "code",
        "colab": {
          "base_uri": "https://localhost:8080/",
          "height": 1000
        },
        "outputId": "5f0e870c-08c8-4037-bd45-11bf96e349ba"
      },
      "source": [
        "X_test"
      ],
      "execution_count": null,
      "outputs": [
        {
          "output_type": "execute_result",
          "data": {
            "text/plain": [
              "array([[0.        , 0.02733041, 0.10986104, 0.09798104, 0.20635226,\n",
              "        0.13929773, 0.09105854, 0.16249262, 0.1512291 , 0.16363566,\n",
              "        0.17926588, 0.17533585, 0.166885  , 0.17646606, 0.12389869,\n",
              "        0.15617374, 0.12247309, 0.18618838, 0.27668182, 0.32782359],\n",
              "       [0.02733041, 0.10986104, 0.09798104, 0.20635226, 0.13929773,\n",
              "        0.09105854, 0.16249262, 0.1512291 , 0.16363566, 0.17926588,\n",
              "        0.17533585, 0.166885  , 0.17646606, 0.12389869, 0.15617374,\n",
              "        0.12247309, 0.18618838, 0.27668182, 0.32782359, 0.44216691],\n",
              "       [0.10986104, 0.09798104, 0.20635226, 0.13929773, 0.09105854,\n",
              "        0.16249262, 0.1512291 , 0.16363566, 0.17926588, 0.17533585,\n",
              "        0.166885  , 0.17646606, 0.12389869, 0.15617374, 0.12247309,\n",
              "        0.18618838, 0.27668182, 0.32782359, 0.44216691, 0.6514089 ],\n",
              "       [0.09798104, 0.20635226, 0.13929773, 0.09105854, 0.16249262,\n",
              "        0.1512291 , 0.16363566, 0.17926588, 0.17533585, 0.166885  ,\n",
              "        0.17646606, 0.12389869, 0.15617374, 0.12247309, 0.18618838,\n",
              "        0.27668182, 0.32782359, 0.44216691, 0.6514089 , 0.67488634],\n",
              "       [0.20635226, 0.13929773, 0.09105854, 0.16249262, 0.1512291 ,\n",
              "        0.16363566, 0.17926588, 0.17533585, 0.166885  , 0.17646606,\n",
              "        0.12389869, 0.15617374, 0.12247309, 0.18618838, 0.27668182,\n",
              "        0.32782359, 0.44216691, 0.6514089 , 0.67488634, 0.64408826],\n",
              "       [0.13929773, 0.09105854, 0.16249262, 0.1512291 , 0.16363566,\n",
              "        0.17926588, 0.17533585, 0.166885  , 0.17646606, 0.12389869,\n",
              "        0.15617374, 0.12247309, 0.18618838, 0.27668182, 0.32782359,\n",
              "        0.44216691, 0.6514089 , 0.67488634, 0.64408826, 0.68056305],\n",
              "       [0.09105854, 0.16249262, 0.1512291 , 0.16363566, 0.17926588,\n",
              "        0.17533585, 0.166885  , 0.17646606, 0.12389869, 0.15617374,\n",
              "        0.12247309, 0.18618838, 0.27668182, 0.32782359, 0.44216691,\n",
              "        0.6514089 , 0.67488634, 0.64408826, 0.68056305, 0.87368678],\n",
              "       [0.16249262, 0.1512291 , 0.16363566, 0.17926588, 0.17533585,\n",
              "        0.166885  , 0.17646606, 0.12389869, 0.15617374, 0.12247309,\n",
              "        0.18618838, 0.27668182, 0.32782359, 0.44216691, 0.6514089 ,\n",
              "        0.67488634, 0.64408826, 0.68056305, 0.87368678, 0.81256582],\n",
              "       [0.1512291 , 0.16363566, 0.17926588, 0.17533585, 0.166885  ,\n",
              "        0.17646606, 0.12389869, 0.15617374, 0.12247309, 0.18618838,\n",
              "        0.27668182, 0.32782359, 0.44216691, 0.6514089 , 0.67488634,\n",
              "        0.64408826, 0.68056305, 0.87368678, 0.81256582, 0.83791837],\n",
              "       [0.16363566, 0.17926588, 0.17533585, 0.166885  , 0.17646606,\n",
              "        0.12389869, 0.15617374, 0.12247309, 0.18618838, 0.27668182,\n",
              "        0.32782359, 0.44216691, 0.6514089 , 0.67488634, 0.64408826,\n",
              "        0.68056305, 0.87368678, 0.81256582, 0.83791837, 0.87543346],\n",
              "       [0.17926588, 0.17533585, 0.166885  , 0.17646606, 0.12389869,\n",
              "        0.15617374, 0.12247309, 0.18618838, 0.27668182, 0.32782359,\n",
              "        0.44216691, 0.6514089 , 0.67488634, 0.64408826, 0.68056305,\n",
              "        0.87368678, 0.81256582, 0.83791837, 0.87543346, 0.8171637 ],\n",
              "       [0.17533585, 0.166885  , 0.17646606, 0.12389869, 0.15617374,\n",
              "        0.12247309, 0.18618838, 0.27668182, 0.32782359, 0.44216691,\n",
              "        0.6514089 , 0.67488634, 0.64408826, 0.68056305, 0.87368678,\n",
              "        0.81256582, 0.83791837, 0.87543346, 0.8171637 , 0.81742056],\n",
              "       [0.166885  , 0.17646606, 0.12389869, 0.15617374, 0.12247309,\n",
              "        0.18618838, 0.27668182, 0.32782359, 0.44216691, 0.6514089 ,\n",
              "        0.67488634, 0.64408826, 0.68056305, 0.87368678, 0.81256582,\n",
              "        0.83791837, 0.87543346, 0.8171637 , 0.81742056, 1.        ],\n",
              "       [0.17646606, 0.12389869, 0.15617374, 0.12247309, 0.18618838,\n",
              "        0.27668182, 0.32782359, 0.44216691, 0.6514089 , 0.67488634,\n",
              "        0.64408826, 0.68056305, 0.87368678, 0.81256582, 0.83791837,\n",
              "        0.87543346, 0.8171637 , 0.81742056, 1.        , 0.90413809],\n",
              "       [0.12389869, 0.15617374, 0.12247309, 0.18618838, 0.27668182,\n",
              "        0.32782359, 0.44216691, 0.6514089 , 0.67488634, 0.64408826,\n",
              "        0.68056305, 0.87368678, 0.81256582, 0.83791837, 0.87543346,\n",
              "        0.8171637 , 0.81742056, 1.        , 0.90413809, 0.93492333],\n",
              "       [0.15617374, 0.12247309, 0.18618838, 0.27668182, 0.32782359,\n",
              "        0.44216691, 0.6514089 , 0.67488634, 0.64408826, 0.68056305,\n",
              "        0.87368678, 0.81256582, 0.83791837, 0.87543346, 0.8171637 ,\n",
              "        0.81742056, 1.        , 0.90413809, 0.93492333, 0.83312784],\n",
              "       [0.12247309, 0.18618838, 0.27668182, 0.32782359, 0.44216691,\n",
              "        0.6514089 , 0.67488634, 0.64408826, 0.68056305, 0.87368678,\n",
              "        0.81256582, 0.83791837, 0.87543346, 0.8171637 , 0.81742056,\n",
              "        1.        , 0.90413809, 0.93492333, 0.83312784, 0.70974288],\n",
              "       [0.18618838, 0.27668182, 0.32782359, 0.44216691, 0.6514089 ,\n",
              "        0.67488634, 0.64408826, 0.68056305, 0.87368678, 0.81256582,\n",
              "        0.83791837, 0.87543346, 0.8171637 , 0.81742056, 1.        ,\n",
              "        0.90413809, 0.93492333, 0.83312784, 0.70974288, 0.86720095],\n",
              "       [0.27668182, 0.32782359, 0.44216691, 0.6514089 , 0.67488634,\n",
              "        0.64408826, 0.68056305, 0.87368678, 0.81256582, 0.83791837,\n",
              "        0.87543346, 0.8171637 , 0.81742056, 1.        , 0.90413809,\n",
              "        0.93492333, 0.83312784, 0.70974288, 0.86720095, 0.78614729],\n",
              "       [0.32782359, 0.44216691, 0.6514089 , 0.67488634, 0.64408826,\n",
              "        0.68056305, 0.87368678, 0.81256582, 0.83791837, 0.87543346,\n",
              "        0.8171637 , 0.81742056, 1.        , 0.90413809, 0.93492333,\n",
              "        0.83312784, 0.70974288, 0.86720095, 0.78614729, 0.81519868]])"
            ]
          },
          "metadata": {
            "tags": []
          },
          "execution_count": 55
        }
      ]
    },
    {
      "cell_type": "code",
      "metadata": {
        "id": "4UWCKYAu9g7V",
        "colab_type": "code",
        "colab": {
          "base_uri": "https://localhost:8080/",
          "height": 35
        },
        "outputId": "d426e414-fa93-4077-e603-6784f27f5a20"
      },
      "source": [
        "X_test.shape"
      ],
      "execution_count": null,
      "outputs": [
        {
          "output_type": "execute_result",
          "data": {
            "text/plain": [
              "(20, 20)"
            ]
          },
          "metadata": {
            "tags": []
          },
          "execution_count": 56
        }
      ]
    },
    {
      "cell_type": "code",
      "metadata": {
        "id": "IOXJytZap52P",
        "colab_type": "code",
        "colab": {}
      },
      "source": [
        "X_test = np.reshape(X_test, (X_test.shape[0], X_test.shape[1], 1))"
      ],
      "execution_count": null,
      "outputs": []
    },
    {
      "cell_type": "code",
      "metadata": {
        "id": "N8RJA7Nup9Qm",
        "colab_type": "code",
        "colab": {
          "base_uri": "https://localhost:8080/",
          "height": 35
        },
        "outputId": "055ce031-efa7-4256-f517-b47533464821"
      },
      "source": [
        "X_test.shape"
      ],
      "execution_count": null,
      "outputs": [
        {
          "output_type": "execute_result",
          "data": {
            "text/plain": [
              "(20, 20, 1)"
            ]
          },
          "metadata": {
            "tags": []
          },
          "execution_count": 58
        }
      ]
    },
    {
      "cell_type": "markdown",
      "metadata": {
        "id": "42Its73obVF5",
        "colab_type": "text"
      },
      "source": [
        "Creates the model."
      ]
    },
    {
      "cell_type": "code",
      "metadata": {
        "id": "XMjDivXbh8ZW",
        "colab_type": "code",
        "colab": {}
      },
      "source": [
        "regressor = createModel(X_train, 150, 4)"
      ],
      "execution_count": null,
      "outputs": []
    },
    {
      "cell_type": "markdown",
      "metadata": {
        "id": "U7FM1uRtbe69",
        "colab_type": "text"
      },
      "source": [
        "Train the model."
      ]
    },
    {
      "cell_type": "code",
      "metadata": {
        "id": "86aCz2NWh_bX",
        "colab_type": "code",
        "colab": {
          "base_uri": "https://localhost:8080/",
          "height": 1000
        },
        "outputId": "aba36e60-dab8-490d-c629-a1fac182928e"
      },
      "source": [
        "regressor.fit(X_train, y_train, epochs = 60, batch_size = 10)"
      ],
      "execution_count": null,
      "outputs": [
        {
          "output_type": "stream",
          "text": [
            "Epoch 1/60\n",
            "123/123 [==============================] - 17s 141ms/step - loss: 0.0082 - mse: 0.0082\n",
            "Epoch 2/60\n",
            "123/123 [==============================] - 18s 148ms/step - loss: 0.0065 - mse: 0.0065\n",
            "Epoch 3/60\n",
            "123/123 [==============================] - 18s 144ms/step - loss: 0.0042 - mse: 0.0042\n",
            "Epoch 4/60\n",
            "123/123 [==============================] - 18s 144ms/step - loss: 0.0048 - mse: 0.0048\n",
            "Epoch 5/60\n",
            "123/123 [==============================] - 18s 148ms/step - loss: 0.0035 - mse: 0.0035\n",
            "Epoch 6/60\n",
            "123/123 [==============================] - 18s 146ms/step - loss: 0.0025 - mse: 0.0025\n",
            "Epoch 7/60\n",
            "123/123 [==============================] - 18s 147ms/step - loss: 0.0022 - mse: 0.0022\n",
            "Epoch 8/60\n",
            "123/123 [==============================] - 18s 147ms/step - loss: 0.0020 - mse: 0.0020\n",
            "Epoch 9/60\n",
            "123/123 [==============================] - 18s 147ms/step - loss: 0.0018 - mse: 0.0018\n",
            "Epoch 10/60\n",
            "123/123 [==============================] - 18s 147ms/step - loss: 0.0022 - mse: 0.0022\n",
            "Epoch 11/60\n",
            "123/123 [==============================] - 18s 147ms/step - loss: 0.0024 - mse: 0.0024\n",
            "Epoch 12/60\n",
            "123/123 [==============================] - 18s 145ms/step - loss: 0.0014 - mse: 0.0014\n",
            "Epoch 13/60\n",
            "123/123 [==============================] - 19s 151ms/step - loss: 0.0026 - mse: 0.0026\n",
            "Epoch 14/60\n",
            "123/123 [==============================] - 18s 146ms/step - loss: 0.0023 - mse: 0.0023\n",
            "Epoch 15/60\n",
            "123/123 [==============================] - 18s 150ms/step - loss: 0.0021 - mse: 0.0021\n",
            "Epoch 16/60\n",
            "123/123 [==============================] - 17s 142ms/step - loss: 0.0018 - mse: 0.0018\n",
            "Epoch 17/60\n",
            "123/123 [==============================] - 18s 145ms/step - loss: 0.0021 - mse: 0.0021\n",
            "Epoch 18/60\n",
            "123/123 [==============================] - 18s 144ms/step - loss: 0.0012 - mse: 0.0012\n",
            "Epoch 19/60\n",
            "123/123 [==============================] - 18s 143ms/step - loss: 0.0011 - mse: 0.0011\n",
            "Epoch 20/60\n",
            "123/123 [==============================] - 18s 148ms/step - loss: 0.0014 - mse: 0.0014\n",
            "Epoch 21/60\n",
            "123/123 [==============================] - 19s 151ms/step - loss: 0.0011 - mse: 0.0011\n",
            "Epoch 22/60\n",
            "123/123 [==============================] - 18s 149ms/step - loss: 0.0010 - mse: 0.0010\n",
            "Epoch 23/60\n",
            "123/123 [==============================] - 18s 144ms/step - loss: 0.0012 - mse: 0.0012\n",
            "Epoch 24/60\n",
            "123/123 [==============================] - 18s 144ms/step - loss: 0.0011 - mse: 0.0011\n",
            "Epoch 25/60\n",
            "123/123 [==============================] - 18s 144ms/step - loss: 0.0012 - mse: 0.0012\n",
            "Epoch 26/60\n",
            "123/123 [==============================] - 18s 145ms/step - loss: 9.8670e-04 - mse: 9.8670e-04\n",
            "Epoch 27/60\n",
            "123/123 [==============================] - 18s 146ms/step - loss: 9.0329e-04 - mse: 9.0329e-04\n",
            "Epoch 28/60\n",
            "123/123 [==============================] - 18s 145ms/step - loss: 0.0012 - mse: 0.0012\n",
            "Epoch 29/60\n",
            "123/123 [==============================] - 18s 146ms/step - loss: 0.0010 - mse: 0.0010\n",
            "Epoch 30/60\n",
            "123/123 [==============================] - 19s 156ms/step - loss: 9.0865e-04 - mse: 9.0865e-04\n",
            "Epoch 31/60\n",
            "123/123 [==============================] - 19s 154ms/step - loss: 0.0010 - mse: 0.0010\n",
            "Epoch 32/60\n",
            "123/123 [==============================] - 18s 150ms/step - loss: 8.1500e-04 - mse: 8.1500e-04\n",
            "Epoch 33/60\n",
            "123/123 [==============================] - 17s 142ms/step - loss: 9.9779e-04 - mse: 9.9779e-04\n",
            "Epoch 34/60\n",
            "123/123 [==============================] - 18s 145ms/step - loss: 0.0011 - mse: 0.0011\n",
            "Epoch 35/60\n",
            "123/123 [==============================] - 18s 144ms/step - loss: 9.3129e-04 - mse: 9.3129e-04\n",
            "Epoch 36/60\n",
            "123/123 [==============================] - 18s 144ms/step - loss: 0.0011 - mse: 0.0011\n",
            "Epoch 37/60\n",
            "123/123 [==============================] - 18s 144ms/step - loss: 8.6898e-04 - mse: 8.6898e-04\n",
            "Epoch 38/60\n",
            "123/123 [==============================] - 18s 143ms/step - loss: 7.4782e-04 - mse: 7.4782e-04\n",
            "Epoch 39/60\n",
            "123/123 [==============================] - 17s 142ms/step - loss: 6.9089e-04 - mse: 6.9089e-04\n",
            "Epoch 40/60\n",
            "123/123 [==============================] - 18s 143ms/step - loss: 7.0123e-04 - mse: 7.0123e-04\n",
            "Epoch 41/60\n",
            "123/123 [==============================] - 18s 144ms/step - loss: 0.0012 - mse: 0.0012\n",
            "Epoch 42/60\n",
            "123/123 [==============================] - 18s 143ms/step - loss: 9.3531e-04 - mse: 9.3531e-04\n",
            "Epoch 43/60\n",
            "123/123 [==============================] - 18s 144ms/step - loss: 9.5993e-04 - mse: 9.5993e-04\n",
            "Epoch 44/60\n",
            "123/123 [==============================] - 18s 145ms/step - loss: 9.1128e-04 - mse: 9.1128e-04\n",
            "Epoch 45/60\n",
            "123/123 [==============================] - 18s 145ms/step - loss: 7.8238e-04 - mse: 7.8238e-04\n",
            "Epoch 46/60\n",
            "123/123 [==============================] - 18s 143ms/step - loss: 8.7999e-04 - mse: 8.7999e-04\n",
            "Epoch 47/60\n",
            "123/123 [==============================] - 18s 144ms/step - loss: 9.1774e-04 - mse: 9.1774e-04\n",
            "Epoch 48/60\n",
            "123/123 [==============================] - 19s 156ms/step - loss: 0.0012 - mse: 0.0012\n",
            "Epoch 49/60\n",
            "123/123 [==============================] - 21s 173ms/step - loss: 8.1798e-04 - mse: 8.1798e-04\n",
            "Epoch 50/60\n",
            "123/123 [==============================] - 18s 144ms/step - loss: 9.3364e-04 - mse: 9.3364e-04\n",
            "Epoch 51/60\n",
            "123/123 [==============================] - 18s 145ms/step - loss: 0.0011 - mse: 0.0011\n",
            "Epoch 52/60\n",
            "123/123 [==============================] - 18s 145ms/step - loss: 8.7858e-04 - mse: 8.7858e-04\n",
            "Epoch 53/60\n",
            "123/123 [==============================] - 18s 149ms/step - loss: 7.5713e-04 - mse: 7.5713e-04\n",
            "Epoch 54/60\n",
            "123/123 [==============================] - 19s 151ms/step - loss: 9.3659e-04 - mse: 9.3659e-04\n",
            "Epoch 55/60\n",
            "123/123 [==============================] - 19s 151ms/step - loss: 0.0010 - mse: 0.0010\n",
            "Epoch 56/60\n",
            "123/123 [==============================] - 19s 151ms/step - loss: 7.7997e-04 - mse: 7.7997e-04\n",
            "Epoch 57/60\n",
            "123/123 [==============================] - 19s 152ms/step - loss: 9.7202e-04 - mse: 9.7202e-04\n",
            "Epoch 58/60\n",
            "123/123 [==============================] - 18s 150ms/step - loss: 8.7939e-04 - mse: 8.7939e-04\n",
            "Epoch 59/60\n",
            "123/123 [==============================] - 18s 149ms/step - loss: 6.9902e-04 - mse: 6.9902e-04\n",
            "Epoch 60/60\n",
            "123/123 [==============================] - 19s 151ms/step - loss: 0.0013 - mse: 0.0013\n"
          ],
          "name": "stdout"
        },
        {
          "output_type": "execute_result",
          "data": {
            "text/plain": [
              "<tensorflow.python.keras.callbacks.History at 0x7f81398d2f60>"
            ]
          },
          "metadata": {
            "tags": []
          },
          "execution_count": 60
        }
      ]
    },
    {
      "cell_type": "markdown",
      "metadata": {
        "id": "m2umpV-hcXQ4",
        "colab_type": "text"
      },
      "source": [
        "After several tests, I found that the values for number of epochs, batch_size, number of neurons and hidden layers, interesting are 10, 60, 150 and 4, respectively. Clearly, other values for these hyper parameters can achieve better performance."
      ]
    },
    {
      "cell_type": "markdown",
      "metadata": {
        "id": "UVS8aCbicjuW",
        "colab_type": "text"
      },
      "source": [
        "Save the model."
      ]
    },
    {
      "cell_type": "code",
      "metadata": {
        "id": "2pTspqWwVjC6",
        "colab_type": "code",
        "colab": {}
      },
      "source": [
        "regressor.save(\"{0}_stock_price_regressor.h5\".format(stock_name))"
      ],
      "execution_count": null,
      "outputs": []
    },
    {
      "cell_type": "code",
      "metadata": {
        "id": "Wxv93vAuiBox",
        "colab_type": "code",
        "colab": {}
      },
      "source": [
        "predictions = regressor.predict(X_test)"
      ],
      "execution_count": null,
      "outputs": []
    },
    {
      "cell_type": "code",
      "metadata": {
        "id": "d8VRdtIjiFuO",
        "colab_type": "code",
        "colab": {}
      },
      "source": [
        "predictions_inverse = scaler.inverse_transform(predictions)"
      ],
      "execution_count": null,
      "outputs": []
    },
    {
      "cell_type": "code",
      "metadata": {
        "id": "75fm45T0iJEs",
        "colab_type": "code",
        "colab": {
          "base_uri": "https://localhost:8080/",
          "height": 303
        },
        "outputId": "e0c11e9a-5f4e-4a89-c28d-8050449cfc0b"
      },
      "source": [
        "plt.plot(historical_data[threshold:], color = 'red', label = 'Historical prices for {0}.'.format(stock_name))\n",
        "plt.plot(predictions_inverse, color = 'blue', label = 'Predicted prices for {0}.'.format(stock_name))\n",
        "plt.legend()\n",
        "plt.xlabel(\"Days\")\n",
        "plt.ylabel(\"Price (US$)\")\n",
        "plt.grid(True)"
      ],
      "execution_count": null,
      "outputs": [
        {
          "output_type": "execute_result",
          "data": {
            "text/plain": [
              "Text(0, 0.5, 'Price (US$)')"
            ]
          },
          "metadata": {
            "tags": []
          },
          "execution_count": 64
        },
        {
          "output_type": "display_data",
          "data": {
            "image/png": "[encoded data removed]",
            "text/plain": [
              "<Figure size 432x288 with 1 Axes>"
            ]
          },
          "metadata": {
            "tags": [],
            "needs_background": "light"
          }
        }
      ]
    }
  ]
}